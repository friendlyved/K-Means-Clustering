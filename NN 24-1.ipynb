{
 "cells": [
  {
   "cell_type": "code",
   "execution_count": 1,
   "id": "41bd8a7d",
   "metadata": {},
   "outputs": [
    {
     "name": "stdout",
     "output_type": "stream",
     "text": [
      "Requirement already satisfied: tensorflow in c:\\users\\my pc\\anaconda3\\lib\\site-packages (2.7.0)\n",
      "Requirement already satisfied: google-pasta>=0.1.1 in c:\\users\\my pc\\anaconda3\\lib\\site-packages (from tensorflow) (0.2.0)\n",
      "Requirement already satisfied: h5py>=2.9.0 in c:\\users\\my pc\\anaconda3\\lib\\site-packages (from tensorflow) (2.10.0)\n",
      "Requirement already satisfied: wheel<1.0,>=0.32.0 in c:\\users\\my pc\\anaconda3\\lib\\site-packages (from tensorflow) (0.36.2)\n",
      "Requirement already satisfied: opt-einsum>=2.3.2 in c:\\users\\my pc\\anaconda3\\lib\\site-packages (from tensorflow) (3.3.0)\n",
      "Requirement already satisfied: protobuf>=3.9.2 in c:\\users\\my pc\\anaconda3\\lib\\site-packages (from tensorflow) (3.19.3)\n",
      "Requirement already satisfied: keras-preprocessing>=1.1.1 in c:\\users\\my pc\\anaconda3\\lib\\site-packages (from tensorflow) (1.1.2)\n",
      "Requirement already satisfied: tensorflow-estimator<2.8,~=2.7.0rc0 in c:\\users\\my pc\\anaconda3\\lib\\site-packages (from tensorflow) (2.7.0)\n",
      "Requirement already satisfied: tensorflow-io-gcs-filesystem>=0.21.0 in c:\\users\\my pc\\anaconda3\\lib\\site-packages (from tensorflow) (0.23.1)\n",
      "Requirement already satisfied: grpcio<2.0,>=1.24.3 in c:\\users\\my pc\\anaconda3\\lib\\site-packages (from tensorflow) (1.43.0)\n",
      "Requirement already satisfied: gast<0.5.0,>=0.2.1 in c:\\users\\my pc\\anaconda3\\lib\\site-packages (from tensorflow) (0.4.0)\n",
      "Requirement already satisfied: wrapt>=1.11.0 in c:\\users\\my pc\\anaconda3\\lib\\site-packages (from tensorflow) (1.12.1)\n",
      "Requirement already satisfied: astunparse>=1.6.0 in c:\\users\\my pc\\anaconda3\\lib\\site-packages (from tensorflow) (1.6.3)\n",
      "Requirement already satisfied: numpy>=1.14.5 in c:\\users\\my pc\\anaconda3\\lib\\site-packages (from tensorflow) (1.20.1)\n",
      "Requirement already satisfied: flatbuffers<3.0,>=1.12 in c:\\users\\my pc\\anaconda3\\lib\\site-packages (from tensorflow) (2.0)\n",
      "Requirement already satisfied: libclang>=9.0.1 in c:\\users\\my pc\\anaconda3\\lib\\site-packages (from tensorflow) (12.0.0)\n",
      "Requirement already satisfied: termcolor>=1.1.0 in c:\\users\\my pc\\anaconda3\\lib\\site-packages (from tensorflow) (1.1.0)\n",
      "Requirement already satisfied: six>=1.12.0 in c:\\users\\my pc\\anaconda3\\lib\\site-packages (from tensorflow) (1.15.0)\n",
      "Requirement already satisfied: typing-extensions>=3.6.6 in c:\\users\\my pc\\anaconda3\\lib\\site-packages (from tensorflow) (3.7.4.3)\n",
      "Requirement already satisfied: keras<2.8,>=2.7.0rc0 in c:\\users\\my pc\\anaconda3\\lib\\site-packages (from tensorflow) (2.7.0)\n",
      "Requirement already satisfied: tensorboard~=2.6 in c:\\users\\my pc\\anaconda3\\lib\\site-packages (from tensorflow) (2.8.0)\n",
      "Requirement already satisfied: absl-py>=0.4.0 in c:\\users\\my pc\\anaconda3\\lib\\site-packages (from tensorflow) (1.0.0)\n",
      "Requirement already satisfied: google-auth-oauthlib<0.5,>=0.4.1 in c:\\users\\my pc\\anaconda3\\lib\\site-packages (from tensorboard~=2.6->tensorflow) (0.4.6)\n",
      "Requirement already satisfied: tensorboard-data-server<0.7.0,>=0.6.0 in c:\\users\\my pc\\anaconda3\\lib\\site-packages (from tensorboard~=2.6->tensorflow) (0.6.1)\n",
      "Requirement already satisfied: tensorboard-plugin-wit>=1.6.0 in c:\\users\\my pc\\anaconda3\\lib\\site-packages (from tensorboard~=2.6->tensorflow) (1.8.1)\n",
      "Requirement already satisfied: setuptools>=41.0.0 in c:\\users\\my pc\\anaconda3\\lib\\site-packages (from tensorboard~=2.6->tensorflow) (52.0.0.post20210125)\n",
      "Requirement already satisfied: markdown>=2.6.8 in c:\\users\\my pc\\anaconda3\\lib\\site-packages (from tensorboard~=2.6->tensorflow) (3.3.6)\n",
      "Requirement already satisfied: google-auth<3,>=1.6.3 in c:\\users\\my pc\\anaconda3\\lib\\site-packages (from tensorboard~=2.6->tensorflow) (2.3.3)\n",
      "Requirement already satisfied: requests<3,>=2.21.0 in c:\\users\\my pc\\anaconda3\\lib\\site-packages (from tensorboard~=2.6->tensorflow) (2.25.1)\n",
      "Requirement already satisfied: werkzeug>=0.11.15 in c:\\users\\my pc\\anaconda3\\lib\\site-packages (from tensorboard~=2.6->tensorflow) (1.0.1)\n",
      "Requirement already satisfied: rsa<5,>=3.1.4 in c:\\users\\my pc\\anaconda3\\lib\\site-packages (from google-auth<3,>=1.6.3->tensorboard~=2.6->tensorflow) (4.8)\n",
      "Requirement already satisfied: cachetools<5.0,>=2.0.0 in c:\\users\\my pc\\anaconda3\\lib\\site-packages (from google-auth<3,>=1.6.3->tensorboard~=2.6->tensorflow) (4.2.4)\n",
      "Requirement already satisfied: pyasn1-modules>=0.2.1 in c:\\users\\my pc\\anaconda3\\lib\\site-packages (from google-auth<3,>=1.6.3->tensorboard~=2.6->tensorflow) (0.2.8)\n",
      "Requirement already satisfied: requests-oauthlib>=0.7.0 in c:\\users\\my pc\\anaconda3\\lib\\site-packages (from google-auth-oauthlib<0.5,>=0.4.1->tensorboard~=2.6->tensorflow) (1.3.0)\n",
      "Requirement already satisfied: importlib-metadata>=4.4 in c:\\users\\my pc\\anaconda3\\lib\\site-packages (from markdown>=2.6.8->tensorboard~=2.6->tensorflow) (4.10.1)\n",
      "Requirement already satisfied: zipp>=0.5 in c:\\users\\my pc\\anaconda3\\lib\\site-packages (from importlib-metadata>=4.4->markdown>=2.6.8->tensorboard~=2.6->tensorflow) (3.4.1)\n",
      "Requirement already satisfied: pyasn1<0.5.0,>=0.4.6 in c:\\users\\my pc\\anaconda3\\lib\\site-packages (from pyasn1-modules>=0.2.1->google-auth<3,>=1.6.3->tensorboard~=2.6->tensorflow) (0.4.8)\n",
      "Requirement already satisfied: urllib3<1.27,>=1.21.1 in c:\\users\\my pc\\anaconda3\\lib\\site-packages (from requests<3,>=2.21.0->tensorboard~=2.6->tensorflow) (1.26.4)\n",
      "Requirement already satisfied: chardet<5,>=3.0.2 in c:\\users\\my pc\\anaconda3\\lib\\site-packages (from requests<3,>=2.21.0->tensorboard~=2.6->tensorflow) (4.0.0)\n",
      "Requirement already satisfied: idna<3,>=2.5 in c:\\users\\my pc\\anaconda3\\lib\\site-packages (from requests<3,>=2.21.0->tensorboard~=2.6->tensorflow) (2.10)\n",
      "Requirement already satisfied: certifi>=2017.4.17 in c:\\users\\my pc\\anaconda3\\lib\\site-packages (from requests<3,>=2.21.0->tensorboard~=2.6->tensorflow) (2020.12.5)\n",
      "Requirement already satisfied: oauthlib>=3.0.0 in c:\\users\\my pc\\anaconda3\\lib\\site-packages (from requests-oauthlib>=0.7.0->google-auth-oauthlib<0.5,>=0.4.1->tensorboard~=2.6->tensorflow) (3.1.1)\n"
     ]
    }
   ],
   "source": [
    "!pip install tensorflow"
   ]
  },
  {
   "cell_type": "code",
   "execution_count": 1,
   "id": "27a3d280",
   "metadata": {},
   "outputs": [],
   "source": [
    "import tensorflow as tf"
   ]
  },
  {
   "cell_type": "code",
   "execution_count": 2,
   "id": "96651946",
   "metadata": {},
   "outputs": [
    {
     "data": {
      "text/plain": [
       "'2.7.0'"
      ]
     },
     "execution_count": 2,
     "metadata": {},
     "output_type": "execute_result"
    }
   ],
   "source": [
    "tf.version.VERSION"
   ]
  },
  {
   "cell_type": "code",
   "execution_count": 3,
   "id": "21887772",
   "metadata": {},
   "outputs": [],
   "source": [
    "import pandas as pd\n",
    "import matplotlib.pyplot as plt\n",
    "import seaborn as sns\n",
    "import tensorflow as tf\n",
    "import keras\n",
    "import numpy as np"
   ]
  },
  {
   "cell_type": "code",
   "execution_count": 5,
   "id": "a194af90",
   "metadata": {},
   "outputs": [],
   "source": [
    "mnist= pd.read_csv(\"Datasets/MNIST_Train (2).csv\")"
   ]
  },
  {
   "cell_type": "code",
   "execution_count": 6,
   "id": "f0b7c1fa",
   "metadata": {},
   "outputs": [
    {
     "data": {
      "text/html": [
       "<div>\n",
       "<style scoped>\n",
       "    .dataframe tbody tr th:only-of-type {\n",
       "        vertical-align: middle;\n",
       "    }\n",
       "\n",
       "    .dataframe tbody tr th {\n",
       "        vertical-align: top;\n",
       "    }\n",
       "\n",
       "    .dataframe thead th {\n",
       "        text-align: right;\n",
       "    }\n",
       "</style>\n",
       "<table border=\"1\" class=\"dataframe\">\n",
       "  <thead>\n",
       "    <tr style=\"text-align: right;\">\n",
       "      <th></th>\n",
       "      <th>label</th>\n",
       "      <th>pixel0</th>\n",
       "      <th>pixel1</th>\n",
       "      <th>pixel2</th>\n",
       "      <th>pixel3</th>\n",
       "      <th>pixel4</th>\n",
       "      <th>pixel5</th>\n",
       "      <th>pixel6</th>\n",
       "      <th>pixel7</th>\n",
       "      <th>pixel8</th>\n",
       "      <th>...</th>\n",
       "      <th>pixel774</th>\n",
       "      <th>pixel775</th>\n",
       "      <th>pixel776</th>\n",
       "      <th>pixel777</th>\n",
       "      <th>pixel778</th>\n",
       "      <th>pixel779</th>\n",
       "      <th>pixel780</th>\n",
       "      <th>pixel781</th>\n",
       "      <th>pixel782</th>\n",
       "      <th>pixel783</th>\n",
       "    </tr>\n",
       "  </thead>\n",
       "  <tbody>\n",
       "    <tr>\n",
       "      <th>0</th>\n",
       "      <td>1</td>\n",
       "      <td>0</td>\n",
       "      <td>0</td>\n",
       "      <td>0</td>\n",
       "      <td>0</td>\n",
       "      <td>0</td>\n",
       "      <td>0</td>\n",
       "      <td>0</td>\n",
       "      <td>0</td>\n",
       "      <td>0</td>\n",
       "      <td>...</td>\n",
       "      <td>0</td>\n",
       "      <td>0</td>\n",
       "      <td>0</td>\n",
       "      <td>0</td>\n",
       "      <td>0</td>\n",
       "      <td>0</td>\n",
       "      <td>0</td>\n",
       "      <td>0</td>\n",
       "      <td>0</td>\n",
       "      <td>0</td>\n",
       "    </tr>\n",
       "    <tr>\n",
       "      <th>1</th>\n",
       "      <td>0</td>\n",
       "      <td>0</td>\n",
       "      <td>0</td>\n",
       "      <td>0</td>\n",
       "      <td>0</td>\n",
       "      <td>0</td>\n",
       "      <td>0</td>\n",
       "      <td>0</td>\n",
       "      <td>0</td>\n",
       "      <td>0</td>\n",
       "      <td>...</td>\n",
       "      <td>0</td>\n",
       "      <td>0</td>\n",
       "      <td>0</td>\n",
       "      <td>0</td>\n",
       "      <td>0</td>\n",
       "      <td>0</td>\n",
       "      <td>0</td>\n",
       "      <td>0</td>\n",
       "      <td>0</td>\n",
       "      <td>0</td>\n",
       "    </tr>\n",
       "    <tr>\n",
       "      <th>2</th>\n",
       "      <td>1</td>\n",
       "      <td>0</td>\n",
       "      <td>0</td>\n",
       "      <td>0</td>\n",
       "      <td>0</td>\n",
       "      <td>0</td>\n",
       "      <td>0</td>\n",
       "      <td>0</td>\n",
       "      <td>0</td>\n",
       "      <td>0</td>\n",
       "      <td>...</td>\n",
       "      <td>0</td>\n",
       "      <td>0</td>\n",
       "      <td>0</td>\n",
       "      <td>0</td>\n",
       "      <td>0</td>\n",
       "      <td>0</td>\n",
       "      <td>0</td>\n",
       "      <td>0</td>\n",
       "      <td>0</td>\n",
       "      <td>0</td>\n",
       "    </tr>\n",
       "    <tr>\n",
       "      <th>3</th>\n",
       "      <td>4</td>\n",
       "      <td>0</td>\n",
       "      <td>0</td>\n",
       "      <td>0</td>\n",
       "      <td>0</td>\n",
       "      <td>0</td>\n",
       "      <td>0</td>\n",
       "      <td>0</td>\n",
       "      <td>0</td>\n",
       "      <td>0</td>\n",
       "      <td>...</td>\n",
       "      <td>0</td>\n",
       "      <td>0</td>\n",
       "      <td>0</td>\n",
       "      <td>0</td>\n",
       "      <td>0</td>\n",
       "      <td>0</td>\n",
       "      <td>0</td>\n",
       "      <td>0</td>\n",
       "      <td>0</td>\n",
       "      <td>0</td>\n",
       "    </tr>\n",
       "    <tr>\n",
       "      <th>4</th>\n",
       "      <td>0</td>\n",
       "      <td>0</td>\n",
       "      <td>0</td>\n",
       "      <td>0</td>\n",
       "      <td>0</td>\n",
       "      <td>0</td>\n",
       "      <td>0</td>\n",
       "      <td>0</td>\n",
       "      <td>0</td>\n",
       "      <td>0</td>\n",
       "      <td>...</td>\n",
       "      <td>0</td>\n",
       "      <td>0</td>\n",
       "      <td>0</td>\n",
       "      <td>0</td>\n",
       "      <td>0</td>\n",
       "      <td>0</td>\n",
       "      <td>0</td>\n",
       "      <td>0</td>\n",
       "      <td>0</td>\n",
       "      <td>0</td>\n",
       "    </tr>\n",
       "    <tr>\n",
       "      <th>...</th>\n",
       "      <td>...</td>\n",
       "      <td>...</td>\n",
       "      <td>...</td>\n",
       "      <td>...</td>\n",
       "      <td>...</td>\n",
       "      <td>...</td>\n",
       "      <td>...</td>\n",
       "      <td>...</td>\n",
       "      <td>...</td>\n",
       "      <td>...</td>\n",
       "      <td>...</td>\n",
       "      <td>...</td>\n",
       "      <td>...</td>\n",
       "      <td>...</td>\n",
       "      <td>...</td>\n",
       "      <td>...</td>\n",
       "      <td>...</td>\n",
       "      <td>...</td>\n",
       "      <td>...</td>\n",
       "      <td>...</td>\n",
       "      <td>...</td>\n",
       "    </tr>\n",
       "    <tr>\n",
       "      <th>41995</th>\n",
       "      <td>0</td>\n",
       "      <td>0</td>\n",
       "      <td>0</td>\n",
       "      <td>0</td>\n",
       "      <td>0</td>\n",
       "      <td>0</td>\n",
       "      <td>0</td>\n",
       "      <td>0</td>\n",
       "      <td>0</td>\n",
       "      <td>0</td>\n",
       "      <td>...</td>\n",
       "      <td>0</td>\n",
       "      <td>0</td>\n",
       "      <td>0</td>\n",
       "      <td>0</td>\n",
       "      <td>0</td>\n",
       "      <td>0</td>\n",
       "      <td>0</td>\n",
       "      <td>0</td>\n",
       "      <td>0</td>\n",
       "      <td>0</td>\n",
       "    </tr>\n",
       "    <tr>\n",
       "      <th>41996</th>\n",
       "      <td>1</td>\n",
       "      <td>0</td>\n",
       "      <td>0</td>\n",
       "      <td>0</td>\n",
       "      <td>0</td>\n",
       "      <td>0</td>\n",
       "      <td>0</td>\n",
       "      <td>0</td>\n",
       "      <td>0</td>\n",
       "      <td>0</td>\n",
       "      <td>...</td>\n",
       "      <td>0</td>\n",
       "      <td>0</td>\n",
       "      <td>0</td>\n",
       "      <td>0</td>\n",
       "      <td>0</td>\n",
       "      <td>0</td>\n",
       "      <td>0</td>\n",
       "      <td>0</td>\n",
       "      <td>0</td>\n",
       "      <td>0</td>\n",
       "    </tr>\n",
       "    <tr>\n",
       "      <th>41997</th>\n",
       "      <td>7</td>\n",
       "      <td>0</td>\n",
       "      <td>0</td>\n",
       "      <td>0</td>\n",
       "      <td>0</td>\n",
       "      <td>0</td>\n",
       "      <td>0</td>\n",
       "      <td>0</td>\n",
       "      <td>0</td>\n",
       "      <td>0</td>\n",
       "      <td>...</td>\n",
       "      <td>0</td>\n",
       "      <td>0</td>\n",
       "      <td>0</td>\n",
       "      <td>0</td>\n",
       "      <td>0</td>\n",
       "      <td>0</td>\n",
       "      <td>0</td>\n",
       "      <td>0</td>\n",
       "      <td>0</td>\n",
       "      <td>0</td>\n",
       "    </tr>\n",
       "    <tr>\n",
       "      <th>41998</th>\n",
       "      <td>6</td>\n",
       "      <td>0</td>\n",
       "      <td>0</td>\n",
       "      <td>0</td>\n",
       "      <td>0</td>\n",
       "      <td>0</td>\n",
       "      <td>0</td>\n",
       "      <td>0</td>\n",
       "      <td>0</td>\n",
       "      <td>0</td>\n",
       "      <td>...</td>\n",
       "      <td>0</td>\n",
       "      <td>0</td>\n",
       "      <td>0</td>\n",
       "      <td>0</td>\n",
       "      <td>0</td>\n",
       "      <td>0</td>\n",
       "      <td>0</td>\n",
       "      <td>0</td>\n",
       "      <td>0</td>\n",
       "      <td>0</td>\n",
       "    </tr>\n",
       "    <tr>\n",
       "      <th>41999</th>\n",
       "      <td>9</td>\n",
       "      <td>0</td>\n",
       "      <td>0</td>\n",
       "      <td>0</td>\n",
       "      <td>0</td>\n",
       "      <td>0</td>\n",
       "      <td>0</td>\n",
       "      <td>0</td>\n",
       "      <td>0</td>\n",
       "      <td>0</td>\n",
       "      <td>...</td>\n",
       "      <td>0</td>\n",
       "      <td>0</td>\n",
       "      <td>0</td>\n",
       "      <td>0</td>\n",
       "      <td>0</td>\n",
       "      <td>0</td>\n",
       "      <td>0</td>\n",
       "      <td>0</td>\n",
       "      <td>0</td>\n",
       "      <td>0</td>\n",
       "    </tr>\n",
       "  </tbody>\n",
       "</table>\n",
       "<p>42000 rows × 785 columns</p>\n",
       "</div>"
      ],
      "text/plain": [
       "       label  pixel0  pixel1  pixel2  pixel3  pixel4  pixel5  pixel6  pixel7  \\\n",
       "0          1       0       0       0       0       0       0       0       0   \n",
       "1          0       0       0       0       0       0       0       0       0   \n",
       "2          1       0       0       0       0       0       0       0       0   \n",
       "3          4       0       0       0       0       0       0       0       0   \n",
       "4          0       0       0       0       0       0       0       0       0   \n",
       "...      ...     ...     ...     ...     ...     ...     ...     ...     ...   \n",
       "41995      0       0       0       0       0       0       0       0       0   \n",
       "41996      1       0       0       0       0       0       0       0       0   \n",
       "41997      7       0       0       0       0       0       0       0       0   \n",
       "41998      6       0       0       0       0       0       0       0       0   \n",
       "41999      9       0       0       0       0       0       0       0       0   \n",
       "\n",
       "       pixel8  ...  pixel774  pixel775  pixel776  pixel777  pixel778  \\\n",
       "0           0  ...         0         0         0         0         0   \n",
       "1           0  ...         0         0         0         0         0   \n",
       "2           0  ...         0         0         0         0         0   \n",
       "3           0  ...         0         0         0         0         0   \n",
       "4           0  ...         0         0         0         0         0   \n",
       "...       ...  ...       ...       ...       ...       ...       ...   \n",
       "41995       0  ...         0         0         0         0         0   \n",
       "41996       0  ...         0         0         0         0         0   \n",
       "41997       0  ...         0         0         0         0         0   \n",
       "41998       0  ...         0         0         0         0         0   \n",
       "41999       0  ...         0         0         0         0         0   \n",
       "\n",
       "       pixel779  pixel780  pixel781  pixel782  pixel783  \n",
       "0             0         0         0         0         0  \n",
       "1             0         0         0         0         0  \n",
       "2             0         0         0         0         0  \n",
       "3             0         0         0         0         0  \n",
       "4             0         0         0         0         0  \n",
       "...         ...       ...       ...       ...       ...  \n",
       "41995         0         0         0         0         0  \n",
       "41996         0         0         0         0         0  \n",
       "41997         0         0         0         0         0  \n",
       "41998         0         0         0         0         0  \n",
       "41999         0         0         0         0         0  \n",
       "\n",
       "[42000 rows x 785 columns]"
      ]
     },
     "execution_count": 6,
     "metadata": {},
     "output_type": "execute_result"
    }
   ],
   "source": [
    "mnist"
   ]
  },
  {
   "cell_type": "code",
   "execution_count": 7,
   "id": "611466d3",
   "metadata": {},
   "outputs": [],
   "source": [
    "abcd=mnist.iloc[0,1:]"
   ]
  },
  {
   "cell_type": "code",
   "execution_count": 8,
   "id": "8d03df52",
   "metadata": {},
   "outputs": [
    {
     "data": {
      "text/plain": [
       "pixel0      0\n",
       "pixel1      0\n",
       "pixel2      0\n",
       "pixel3      0\n",
       "pixel4      0\n",
       "           ..\n",
       "pixel779    0\n",
       "pixel780    0\n",
       "pixel781    0\n",
       "pixel782    0\n",
       "pixel783    0\n",
       "Name: 0, Length: 784, dtype: int64"
      ]
     },
     "execution_count": 8,
     "metadata": {},
     "output_type": "execute_result"
    }
   ],
   "source": [
    "abcd"
   ]
  },
  {
   "cell_type": "code",
   "execution_count": 9,
   "id": "e7e769a8",
   "metadata": {},
   "outputs": [
    {
     "data": {
      "text/plain": [
       "<matplotlib.image.AxesImage at 0x298e5ec8820>"
      ]
     },
     "execution_count": 9,
     "metadata": {},
     "output_type": "execute_result"
    },
    {
     "data": {
      "image/png": "[encoded data removed]",
      "text/plain": [
       "<Figure size 432x288 with 1 Axes>"
      ]
     },
     "metadata": {
      "needs_background": "light"
     },
     "output_type": "display_data"
    }
   ],
   "source": [
    "abcd=np.array(mnist.iloc[0,1:])\n",
    "abcd=abcd.reshape(28,28)\n",
    "plt.imshow(abcd)"
   ]
  },
  {
   "cell_type": "code",
   "execution_count": 10,
   "id": "a650d8ca",
   "metadata": {},
   "outputs": [
    {
     "data": {
      "image/png": "[encoded data removed]",
      "text/plain": [
       "<Figure size 432x288 with 50 Axes>"
      ]
     },
     "metadata": {
      "needs_background": "light"
     },
     "output_type": "display_data"
    }
   ],
   "source": [
    "mnist1=mnist.iloc[:,1:786]\n",
    "mnist1=np.array(mnist1)\n",
    "for i in range(50): # for 20 images\n",
    "    plt.subplot(10,5,i+1) \n",
    "    plt.imshow(mnist1[i,:].reshape(28,28))\n",
    "    plt.axis('off')"
   ]
  },
  {
   "cell_type": "code",
   "execution_count": 11,
   "id": "3cfe1b2a",
   "metadata": {},
   "outputs": [],
   "source": [
    "#building NN model"
   ]
  },
  {
   "cell_type": "code",
   "execution_count": 13,
   "id": "1305cc34",
   "metadata": {},
   "outputs": [],
   "source": [
    "mnist_x =mnist.iloc[:,1:786]\n",
    "mnist_y =mnist.iloc[:,0]"
   ]
  },
  {
   "cell_type": "code",
   "execution_count": 14,
   "id": "bea5d861",
   "metadata": {},
   "outputs": [],
   "source": [
    "from sklearn.model_selection import train_test_split"
   ]
  },
  {
   "cell_type": "code",
   "execution_count": 15,
   "id": "959a905e",
   "metadata": {},
   "outputs": [],
   "source": [
    "mnist_x_train,mnist_x_test,mnist_y_train,mnist_y_test =train_test_split(mnist_x,mnist_y,test_size=.2,random_state=420)"
   ]
  },
  {
   "cell_type": "code",
   "execution_count": 16,
   "id": "fe3680fb",
   "metadata": {},
   "outputs": [
    {
     "name": "stdout",
     "output_type": "stream",
     "text": [
      "(33600, 784)\n",
      "(33600,)\n"
     ]
    }
   ],
   "source": [
    "print(mnist_x_train.shape)\n",
    "print(mnist_y_train.shape)"
   ]
  },
  {
   "cell_type": "code",
   "execution_count": 17,
   "id": "d68acbae",
   "metadata": {},
   "outputs": [
    {
     "name": "stdout",
     "output_type": "stream",
     "text": [
      "(8400, 784)\n",
      "(8400,)\n"
     ]
    }
   ],
   "source": [
    "print(mnist_x_test.shape)\n",
    "print(mnist_y_test.shape)"
   ]
  },
  {
   "cell_type": "code",
   "execution_count": 18,
   "id": "81c972da",
   "metadata": {},
   "outputs": [],
   "source": [
    "mnist_x_train =np.array(mnist_x_train)\n",
    "mnist_x_test =np.array(mnist_x_test) # for tenser flow (NN) your data has to be in arrey format"
   ]
  },
  {
   "cell_type": "code",
   "execution_count": 19,
   "id": "26a41a27",
   "metadata": {},
   "outputs": [],
   "source": [
    "# normalise the data its not mandatory nut if u normalise the data u get better model"
   ]
  },
  {
   "cell_type": "code",
   "execution_count": 20,
   "id": "3907f144",
   "metadata": {},
   "outputs": [],
   "source": [
    "mnist_y_train = np.array(mnist_y_train) #converting y into array format"
   ]
  },
  {
   "cell_type": "code",
   "execution_count": 21,
   "id": "cd468a16",
   "metadata": {},
   "outputs": [],
   "source": [
    "model = tf.keras.models.Sequential()\n",
    "model.add(tf.keras.layers.Dense(128, activation = tf.nn.relu)) # 1st hidden layer\n",
    "model.add(tf.keras.layers.Dense(200, activation = tf.nn.relu)) # 2ndst layer\n",
    "model.add(tf.keras.layers.Dense(128, activation = tf.nn.relu)) # 3rd layer\n",
    "model.add(tf.keras.layers.Dense(10, activation = tf.nn.softmax)) # output layer \n",
    "# the 10 in above last line is not a hyper parameter, it is mapped to number of levels in y\n",
    "\n",
    "model.compile(optimizer = 'adam', loss = 'sparse_categorical_crossentropy' , metrics = ['accuracy'])"
   ]
  },
  {
   "cell_type": "code",
   "execution_count": 22,
   "id": "81e3646f",
   "metadata": {},
   "outputs": [
    {
     "name": "stdout",
     "output_type": "stream",
     "text": [
      "Epoch 1/50\n",
      "269/269 [==============================] - 9s 22ms/step - loss: 2.4125 - accuracy: 0.8309 - val_loss: 0.7034 - val_accuracy: 0.8918\n",
      "Epoch 2/50\n",
      "269/269 [==============================] - 5s 19ms/step - loss: 0.4584 - accuracy: 0.9167 - val_loss: 0.4657 - val_accuracy: 0.9176\n",
      "Epoch 3/50\n",
      "269/269 [==============================] - 5s 19ms/step - loss: 0.2615 - accuracy: 0.9448 - val_loss: 0.4445 - val_accuracy: 0.9244\n",
      "Epoch 4/50\n",
      "269/269 [==============================] - 5s 18ms/step - loss: 0.1671 - accuracy: 0.9574 - val_loss: 0.3989 - val_accuracy: 0.9369\n",
      "Epoch 5/50\n",
      "269/269 [==============================] - 5s 18ms/step - loss: 0.1386 - accuracy: 0.9642 - val_loss: 0.3569 - val_accuracy: 0.9339\n",
      "Epoch 6/50\n",
      "269/269 [==============================] - 4s 15ms/step - loss: 0.1089 - accuracy: 0.9719 - val_loss: 0.3639 - val_accuracy: 0.9396\n",
      "Epoch 7/50\n",
      "269/269 [==============================] - 5s 18ms/step - loss: 0.1033 - accuracy: 0.9735 - val_loss: 0.3537 - val_accuracy: 0.9433\n",
      "Epoch 8/50\n",
      "269/269 [==============================] - 5s 20ms/step - loss: 0.0921 - accuracy: 0.9766 - val_loss: 0.3650 - val_accuracy: 0.9403\n",
      "Epoch 9/50\n",
      "269/269 [==============================] - 5s 18ms/step - loss: 0.0994 - accuracy: 0.9745 - val_loss: 0.3825 - val_accuracy: 0.9421\n",
      "Epoch 10/50\n",
      "269/269 [==============================] - 5s 19ms/step - loss: 0.1153 - accuracy: 0.9737 - val_loss: 0.4402 - val_accuracy: 0.9342\n",
      "Epoch 11/50\n",
      "269/269 [==============================] - 4s 15ms/step - loss: 0.0990 - accuracy: 0.9752 - val_loss: 0.3333 - val_accuracy: 0.9457\n",
      "Epoch 12/50\n",
      "269/269 [==============================] - 5s 18ms/step - loss: 0.0904 - accuracy: 0.9772 - val_loss: 0.3592 - val_accuracy: 0.9438\n",
      "Epoch 13/50\n",
      "269/269 [==============================] - 5s 17ms/step - loss: 0.0905 - accuracy: 0.9783 - val_loss: 0.3393 - val_accuracy: 0.9446\n",
      "Epoch 14/50\n",
      "269/269 [==============================] - 6s 21ms/step - loss: 0.0825 - accuracy: 0.9792 - val_loss: 0.3575 - val_accuracy: 0.9461\n",
      "Epoch 15/50\n",
      "269/269 [==============================] - 4s 15ms/step - loss: 0.0693 - accuracy: 0.9823 - val_loss: 0.3399 - val_accuracy: 0.9478\n",
      "Epoch 16/50\n",
      "269/269 [==============================] - 4s 16ms/step - loss: 0.0654 - accuracy: 0.9828 - val_loss: 0.3396 - val_accuracy: 0.9516\n",
      "Epoch 17/50\n",
      "269/269 [==============================] - 4s 16ms/step - loss: 0.0677 - accuracy: 0.9823 - val_loss: 0.3275 - val_accuracy: 0.9536\n",
      "Epoch 18/50\n",
      "269/269 [==============================] - 4s 16ms/step - loss: 0.0485 - accuracy: 0.9873 - val_loss: 0.3187 - val_accuracy: 0.9516\n",
      "Epoch 19/50\n",
      "269/269 [==============================] - 5s 17ms/step - loss: 0.0475 - accuracy: 0.9873 - val_loss: 0.3534 - val_accuracy: 0.9503\n",
      "Epoch 20/50\n",
      "269/269 [==============================] - 4s 16ms/step - loss: 0.0601 - accuracy: 0.9852 - val_loss: 0.2909 - val_accuracy: 0.9528\n",
      "Epoch 21/50\n",
      "269/269 [==============================] - 4s 15ms/step - loss: 0.0565 - accuracy: 0.9856 - val_loss: 0.3586 - val_accuracy: 0.9473\n",
      "Epoch 22/50\n",
      "269/269 [==============================] - 4s 15ms/step - loss: 0.0645 - accuracy: 0.9830 - val_loss: 0.2776 - val_accuracy: 0.9524\n",
      "Epoch 23/50\n",
      "269/269 [==============================] - 4s 15ms/step - loss: 0.0470 - accuracy: 0.9875 - val_loss: 0.2556 - val_accuracy: 0.9579\n",
      "Epoch 24/50\n",
      "269/269 [==============================] - 4s 15ms/step - loss: 0.0509 - accuracy: 0.9863 - val_loss: 0.3069 - val_accuracy: 0.9600\n",
      "Epoch 25/50\n",
      "269/269 [==============================] - 4s 15ms/step - loss: 0.0410 - accuracy: 0.9892 - val_loss: 0.2675 - val_accuracy: 0.9606\n",
      "Epoch 26/50\n",
      "269/269 [==============================] - 4s 15ms/step - loss: 0.0318 - accuracy: 0.9912 - val_loss: 0.2822 - val_accuracy: 0.9567\n",
      "Epoch 27/50\n",
      "269/269 [==============================] - 4s 15ms/step - loss: 0.0378 - accuracy: 0.9898 - val_loss: 0.2730 - val_accuracy: 0.9580\n",
      "Epoch 28/50\n",
      "269/269 [==============================] - 4s 15ms/step - loss: 0.0443 - accuracy: 0.9890 - val_loss: 0.3003 - val_accuracy: 0.9561\n",
      "Epoch 29/50\n",
      "269/269 [==============================] - 4s 15ms/step - loss: 0.0388 - accuracy: 0.9895 - val_loss: 0.2713 - val_accuracy: 0.9567\n",
      "Epoch 30/50\n",
      "269/269 [==============================] - 4s 16ms/step - loss: 0.0269 - accuracy: 0.9917 - val_loss: 0.2444 - val_accuracy: 0.9585\n",
      "Epoch 31/50\n",
      "269/269 [==============================] - 4s 16ms/step - loss: 0.0277 - accuracy: 0.9917 - val_loss: 0.3015 - val_accuracy: 0.9583\n",
      "Epoch 32/50\n",
      "269/269 [==============================] - 4s 17ms/step - loss: 0.0335 - accuracy: 0.9905 - val_loss: 0.2951 - val_accuracy: 0.9577\n",
      "Epoch 33/50\n",
      "269/269 [==============================] - 5s 17ms/step - loss: 0.0397 - accuracy: 0.9895 - val_loss: 0.3210 - val_accuracy: 0.9507\n",
      "Epoch 34/50\n",
      "269/269 [==============================] - 4s 17ms/step - loss: 0.0396 - accuracy: 0.9899 - val_loss: 0.2908 - val_accuracy: 0.9598\n",
      "Epoch 35/50\n",
      "269/269 [==============================] - 5s 20ms/step - loss: 0.0280 - accuracy: 0.9927 - val_loss: 0.2906 - val_accuracy: 0.9573uracy: 0.\n",
      "Epoch 36/50\n",
      "269/269 [==============================] - 5s 20ms/step - loss: 0.0328 - accuracy: 0.9908 - val_loss: 0.2747 - val_accuracy: 0.9647\n",
      "Epoch 37/50\n",
      "269/269 [==============================] - 5s 18ms/step - loss: 0.0348 - accuracy: 0.9911 - val_loss: 0.3384 - val_accuracy: 0.9536\n",
      "Epoch 38/50\n",
      "269/269 [==============================] - 5s 17ms/step - loss: 0.0380 - accuracy: 0.9902 - val_loss: 0.3004 - val_accuracy: 0.9595\n",
      "Epoch 39/50\n",
      "269/269 [==============================] - 5s 19ms/step - loss: 0.0300 - accuracy: 0.9920 - val_loss: 0.2956 - val_accuracy: 0.9597\n",
      "Epoch 40/50\n",
      "269/269 [==============================] - 5s 20ms/step - loss: 0.0349 - accuracy: 0.9915 - val_loss: 0.2526 - val_accuracy: 0.9609\n",
      "Epoch 41/50\n",
      "269/269 [==============================] - 5s 19ms/step - loss: 0.0209 - accuracy: 0.9940 - val_loss: 0.2761 - val_accuracy: 0.9625\n",
      "Epoch 42/50\n",
      "269/269 [==============================] - 6s 20ms/step - loss: 0.0101 - accuracy: 0.9971 - val_loss: 0.3192 - val_accuracy: 0.9589\n",
      "Epoch 43/50\n",
      "269/269 [==============================] - 5s 18ms/step - loss: 0.0342 - accuracy: 0.9923 - val_loss: 0.3828 - val_accuracy: 0.9545\n",
      "Epoch 44/50\n",
      "269/269 [==============================] - 5s 20ms/step - loss: 0.0392 - accuracy: 0.9908 - val_loss: 0.2933 - val_accuracy: 0.9625\n",
      "Epoch 45/50\n",
      "269/269 [==============================] - 5s 20ms/step - loss: 0.0216 - accuracy: 0.9946 - val_loss: 0.3176 - val_accuracy: 0.9583\n",
      "Epoch 46/50\n",
      "269/269 [==============================] - 6s 23ms/step - loss: 0.0343 - accuracy: 0.9917 - val_loss: 0.3097 - val_accuracy: 0.9624\n",
      "Epoch 47/50\n",
      "269/269 [==============================] - 6s 22ms/step - loss: 0.0248 - accuracy: 0.9941 - val_loss: 0.3329 - val_accuracy: 0.9595\n",
      "Epoch 48/50\n",
      "269/269 [==============================] - 5s 20ms/step - loss: 0.0230 - accuracy: 0.9944 - val_loss: 0.2933 - val_accuracy: 0.9661- ETA: 0s - loss: 0.0229 - ac\n",
      "Epoch 49/50\n",
      "269/269 [==============================] - 5s 20ms/step - loss: 0.0190 - accuracy: 0.9956 - val_loss: 0.3093 - val_accuracy: 0.9637\n",
      "Epoch 50/50\n",
      "269/269 [==============================] - 5s 19ms/step - loss: 0.0162 - accuracy: 0.9956 - val_loss: 0.3193 - val_accuracy: 0.9631\n"
     ]
    },
    {
     "data": {
      "text/plain": [
       "<keras.callbacks.History at 0x298e62a37c0>"
      ]
     },
     "execution_count": 22,
     "metadata": {},
     "output_type": "execute_result"
    }
   ],
   "source": [
    "model.fit(mnist_x_train , mnist_y_train , epochs = 50 , validation_split = .2 , batch_size = 100)"
   ]
  },
  {
   "cell_type": "code",
   "execution_count": 26,
   "id": "0c62f275",
   "metadata": {},
   "outputs": [],
   "source": [
    "pred=model.predict(mnist_x_test)"
   ]
  },
  {
   "cell_type": "code",
   "execution_count": 27,
   "id": "3fdbc4ea",
   "metadata": {},
   "outputs": [
    {
     "data": {
      "text/plain": [
       "array([2, 6, 3, ..., 6, 2, 7], dtype=int64)"
      ]
     },
     "execution_count": 27,
     "metadata": {},
     "output_type": "execute_result"
    }
   ],
   "source": [
    "pred_classes=np.argmax(pred,axis=1)\n",
    "pred_classes"
   ]
  },
  {
   "cell_type": "code",
   "execution_count": 31,
   "id": "27c1937f",
   "metadata": {},
   "outputs": [],
   "source": [
    "from sklearn.metrics import confusion_matrix,classification_report"
   ]
  },
  {
   "cell_type": "code",
   "execution_count": 30,
   "id": "9afa7dba",
   "metadata": {},
   "outputs": [
    {
     "data": {
      "text/plain": [
       "array([[794,   0,   1,   0,   0,   2,   4,   0,   2,   0],\n",
       "       [  0, 918,   5,   1,   1,   0,   0,   2,   2,   0],\n",
       "       [  3,   2, 819,   2,   3,   0,   1,   5,   2,   0],\n",
       "       [  1,   4,  11, 854,   0,   5,   0,   2,   3,   4],\n",
       "       [  1,   4,   2,   0, 808,   1,   2,   4,   2,  12],\n",
       "       [  5,   5,   1,  13,   0, 750,   1,   3,  11,   3],\n",
       "       [ 11,   0,   2,   0,   3,   4, 765,   0,   3,   0],\n",
       "       [  0,   1,  11,   0,   2,   0,   0, 880,   0,   7],\n",
       "       [  4,   4,   9,   9,   1,   3,   0,   4, 772,   3],\n",
       "       [  4,   2,   0,  10,  15,   4,   0,  13,   9, 764]], dtype=int64)"
      ]
     },
     "execution_count": 30,
     "metadata": {},
     "output_type": "execute_result"
    }
   ],
   "source": [
    "confusion_matrix(mnist_y_test,pred_classes)"
   ]
  },
  {
   "cell_type": "code",
   "execution_count": 32,
   "id": "f0a4b99a",
   "metadata": {},
   "outputs": [
    {
     "name": "stdout",
     "output_type": "stream",
     "text": [
      "              precision    recall  f1-score   support\n",
      "\n",
      "           0       0.96      0.99      0.98       803\n",
      "           1       0.98      0.99      0.98       929\n",
      "           2       0.95      0.98      0.96       837\n",
      "           3       0.96      0.97      0.96       884\n",
      "           4       0.97      0.97      0.97       836\n",
      "           5       0.98      0.95      0.96       792\n",
      "           6       0.99      0.97      0.98       788\n",
      "           7       0.96      0.98      0.97       901\n",
      "           8       0.96      0.95      0.96       809\n",
      "           9       0.96      0.93      0.95       821\n",
      "\n",
      "    accuracy                           0.97      8400\n",
      "   macro avg       0.97      0.97      0.97      8400\n",
      "weighted avg       0.97      0.97      0.97      8400\n",
      "\n"
     ]
    }
   ],
   "source": [
    "print(classification_report(mnist_y_test,pred_classes))"
   ]
  },
  {
   "cell_type": "code",
   "execution_count": null,
   "id": "b4ac0fec",
   "metadata": {},
   "outputs": [],
   "source": []
  }
 ],
 "metadata": {
  "kernelspec": {
   "display_name": "Python 3",
   "language": "python",
   "name": "python3"
  },
  "language_info": {
   "codemirror_mode": {
    "name": "ipython",
    "version": 3
   },
   "file_extension": ".py",
   "mimetype": "text/x-python",
   "name": "python",
   "nbconvert_exporter": "python",
   "pygments_lexer": "ipython3",
   "version": "3.8.8"
  }
 },
 "nbformat": 4,
 "nbformat_minor": 5
}
